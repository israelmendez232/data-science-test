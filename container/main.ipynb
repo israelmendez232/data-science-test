{
 "nbformat": 4,
 "nbformat_minor": 2,
 "metadata": {
  "language_info": {
   "name": "python",
   "codemirror_mode": {
    "name": "ipython",
    "version": 3
   },
   "version": "3.7.5-final"
  },
  "orig_nbformat": 2,
  "file_extension": ".py",
  "mimetype": "text/x-python",
  "name": "python",
  "npconvert_exporter": "python",
  "pygments_lexer": "ipython3",
  "version": 3,
  "kernelspec": {
   "name": "python37564bitetlvetsmartpipenv42034e2c5fb749cfab9f2ced0eacdc81",
   "display_name": "Python 3.7.5 64-bit ('etl-vet-smart': pipenv)"
  }
 },
 "cells": [
  {
   "cell_type": "markdown",
   "metadata": {},
   "source": [
    "# Teste de Cientista de Dados\n",
    "Configurações do teste primeiro\n",
    "\n",
    "---"
   ]
  },
  {
   "cell_type": "code",
   "outputs": [
    {
     "output_type": "execute_result",
     "data": {
      "text/plain": "                codigo_produto_mask                 setor    familia  \\\n0  66947358462228cf9b31cafc6368174f             Alimentos  Cachorros   \n1  97f1357808314f0979f32f06c1b02e01  Medicina e Bem Estar  Cachorros   \n2  5a4a1c97b398d291f11aeeb178f05862            Brinquedos  Cachorros   \n3  321bbe12a625bf8217baa30ffdd2fc7b  Medicina e Bem Estar  Cachorros   \n4  8c65837857523fe7d4faf12c2c4c04ae             Alimentos  Cachorros   \n\n                subfamilia  peso_unitario  \n0                 Bifinhos          0.520  \n1  Vitaminas e Suplementos          0.050  \n2                  Objetos          0.073  \n3  Antipulgas e Carrapatos          0.100  \n4              Ração Úmida          0.100  ",
      "text/html": "<div>\n<style scoped>\n    .dataframe tbody tr th:only-of-type {\n        vertical-align: middle;\n    }\n\n    .dataframe tbody tr th {\n        vertical-align: top;\n    }\n\n    .dataframe thead th {\n        text-align: right;\n    }\n</style>\n<table border=\"1\" class=\"dataframe\">\n  <thead>\n    <tr style=\"text-align: right;\">\n      <th></th>\n      <th>codigo_produto_mask</th>\n      <th>setor</th>\n      <th>familia</th>\n      <th>subfamilia</th>\n      <th>peso_unitario</th>\n    </tr>\n  </thead>\n  <tbody>\n    <tr>\n      <th>0</th>\n      <td>66947358462228cf9b31cafc6368174f</td>\n      <td>Alimentos</td>\n      <td>Cachorros</td>\n      <td>Bifinhos</td>\n      <td>0.520</td>\n    </tr>\n    <tr>\n      <th>1</th>\n      <td>97f1357808314f0979f32f06c1b02e01</td>\n      <td>Medicina e Bem Estar</td>\n      <td>Cachorros</td>\n      <td>Vitaminas e Suplementos</td>\n      <td>0.050</td>\n    </tr>\n    <tr>\n      <th>2</th>\n      <td>5a4a1c97b398d291f11aeeb178f05862</td>\n      <td>Brinquedos</td>\n      <td>Cachorros</td>\n      <td>Objetos</td>\n      <td>0.073</td>\n    </tr>\n    <tr>\n      <th>3</th>\n      <td>321bbe12a625bf8217baa30ffdd2fc7b</td>\n      <td>Medicina e Bem Estar</td>\n      <td>Cachorros</td>\n      <td>Antipulgas e Carrapatos</td>\n      <td>0.100</td>\n    </tr>\n    <tr>\n      <th>4</th>\n      <td>8c65837857523fe7d4faf12c2c4c04ae</td>\n      <td>Alimentos</td>\n      <td>Cachorros</td>\n      <td>Ração Úmida</td>\n      <td>0.100</td>\n    </tr>\n  </tbody>\n</table>\n</div>"
     },
     "metadata": {},
     "execution_count": 15
    }
   ],
   "source": [
    "from sqlalchemy import create_engine\n",
    "import pandas as pd\n",
    "\n",
    "engine = create_engine('sqlite:///dsci_test.sqlite')\n",
    "\n",
    "pd.read_sql('select * from itens limit 100', engine).head()\n",
    ""
   ],
   "metadata": {},
   "execution_count": 15
  },
  {
   "cell_type": "code",
   "execution_count": 12,
   "metadata": {},
   "outputs": [
    {
     "output_type": "execute_result",
     "data": {
      "text/plain": "                     id_pedido_mask  pedido_assinatura  contagempedidos  \\\n0  c5c58805a8d84c9de5b43644f83406c9                  0                1   \n1  cf66924d6e2d3ee59d23687ffbf6503a                  0                5   \n2  fc955ecdb43129249918f7df5bb30fa2                  0                8   \n3  38b5b3fed9097a193006d6d9acde05ed                  1               13   \n4  00c6dca9fbed874f07b97b6211e73094                  0                6   \n\n                        canal_venda                    subcanal_venda  \\\n0  15bbb9d0bbf25e8d2978de1168c749dc  532c28d5412dd75bf975fb951c740a30   \n1  15bbb9d0bbf25e8d2978de1168c749dc  b2c79ad7dcf03ba266dc0885e1266675   \n2  15bbb9d0bbf25e8d2978de1168c749dc  532c28d5412dd75bf975fb951c740a30   \n3  a564de63c2d0da68cf47586ee05984d7  6ab241effd5d8dd6ecdd79cba1ac174a   \n4  15bbb9d0bbf25e8d2978de1168c749dc  532c28d5412dd75bf975fb951c740a30   \n\n                    canal_marketing          forma_pagamento  parcelas  \n0  47a6f6bcb1457a3123e24eada0ca981f  Cartão de Crédito Total         3  \n1  6e9790f4d0acd2721e0b370023de531d  Cartão de Crédito Total         2  \n2  eb6945d3ad790ec60e20c6c85a54e30b                   Boleto         1  \n3  decc1eab6d0751fcb2d8e41a2ffeb55a  Cartão de Crédito Total         2  \n4  5577d244b0e0f090fb16401226bfd8e4  Cartão de Crédito Total         2  ",
      "text/html": "<div>\n<style scoped>\n    .dataframe tbody tr th:only-of-type {\n        vertical-align: middle;\n    }\n\n    .dataframe tbody tr th {\n        vertical-align: top;\n    }\n\n    .dataframe thead th {\n        text-align: right;\n    }\n</style>\n<table border=\"1\" class=\"dataframe\">\n  <thead>\n    <tr style=\"text-align: right;\">\n      <th></th>\n      <th>id_pedido_mask</th>\n      <th>pedido_assinatura</th>\n      <th>contagempedidos</th>\n      <th>canal_venda</th>\n      <th>subcanal_venda</th>\n      <th>canal_marketing</th>\n      <th>forma_pagamento</th>\n      <th>parcelas</th>\n    </tr>\n  </thead>\n  <tbody>\n    <tr>\n      <th>0</th>\n      <td>c5c58805a8d84c9de5b43644f83406c9</td>\n      <td>0</td>\n      <td>1</td>\n      <td>15bbb9d0bbf25e8d2978de1168c749dc</td>\n      <td>532c28d5412dd75bf975fb951c740a30</td>\n      <td>47a6f6bcb1457a3123e24eada0ca981f</td>\n      <td>Cartão de Crédito Total</td>\n      <td>3</td>\n    </tr>\n    <tr>\n      <th>1</th>\n      <td>cf66924d6e2d3ee59d23687ffbf6503a</td>\n      <td>0</td>\n      <td>5</td>\n      <td>15bbb9d0bbf25e8d2978de1168c749dc</td>\n      <td>b2c79ad7dcf03ba266dc0885e1266675</td>\n      <td>6e9790f4d0acd2721e0b370023de531d</td>\n      <td>Cartão de Crédito Total</td>\n      <td>2</td>\n    </tr>\n    <tr>\n      <th>2</th>\n      <td>fc955ecdb43129249918f7df5bb30fa2</td>\n      <td>0</td>\n      <td>8</td>\n      <td>15bbb9d0bbf25e8d2978de1168c749dc</td>\n      <td>532c28d5412dd75bf975fb951c740a30</td>\n      <td>eb6945d3ad790ec60e20c6c85a54e30b</td>\n      <td>Boleto</td>\n      <td>1</td>\n    </tr>\n    <tr>\n      <th>3</th>\n      <td>38b5b3fed9097a193006d6d9acde05ed</td>\n      <td>1</td>\n      <td>13</td>\n      <td>a564de63c2d0da68cf47586ee05984d7</td>\n      <td>6ab241effd5d8dd6ecdd79cba1ac174a</td>\n      <td>decc1eab6d0751fcb2d8e41a2ffeb55a</td>\n      <td>Cartão de Crédito Total</td>\n      <td>2</td>\n    </tr>\n    <tr>\n      <th>4</th>\n      <td>00c6dca9fbed874f07b97b6211e73094</td>\n      <td>0</td>\n      <td>6</td>\n      <td>15bbb9d0bbf25e8d2978de1168c749dc</td>\n      <td>532c28d5412dd75bf975fb951c740a30</td>\n      <td>5577d244b0e0f090fb16401226bfd8e4</td>\n      <td>Cartão de Crédito Total</td>\n      <td>2</td>\n    </tr>\n  </tbody>\n</table>\n</div>"
     },
     "metadata": {},
     "execution_count": 12
    }
   ],
   "source": [
    "pd.read_sql('select * from pedidos limit 100', engine).head()"
   ]
  },
  {
   "cell_type": "code",
   "execution_count": 14,
   "metadata": {},
   "outputs": [
    {
     "output_type": "execute_result",
     "data": {
      "text/plain": "                     id_pedido_mask                   id_usuario_mask  \\\n0  1b36ebea2c986781b5a7500b7d8971a5  57c9bb7ce32a4629b791c11f113f4e08   \n1  e303a604a1d1cd5b7455dcaf256da2ec  e99abed19b0ede9a1768de5af9573a70   \n2  830172ec53b00a9feeefce2465eafe4c  309ba5b53dce34cac24a37b196e51c76   \n3  a46ca254a2cf132f8c2087e825cc46e4  8e3428b0da37721f59d06b648fdb1d69   \n4  00627c9841286f7a2054a6b3b54d05dd  874af7ab886dd5ad7c8306d0c2f6ac83   \n\n                codigo_produto_mask  quantidade  receita  frete  desconto  \\\n0  b56aa30a87fa7812daa689886060c0b9           1    33.66   0.00      3.74   \n1  9322504cb6521dddcf8fcca18810c975           1     0.00   0.00     99.90   \n2  cca7873258ccf037fee3ee6077a67a97           1   269.09   0.00     29.90   \n3  db69799b4b02e6d708fdf6408b400a0e           1   161.50   0.00      0.00   \n4  97f1357808314f0979f32f06c1b02e01           1    41.37   0.96      4.49   \n\n   brinde  \n0       0  \n1       1  \n2       0  \n3       0  \n4       0  ",
      "text/html": "<div>\n<style scoped>\n    .dataframe tbody tr th:only-of-type {\n        vertical-align: middle;\n    }\n\n    .dataframe tbody tr th {\n        vertical-align: top;\n    }\n\n    .dataframe thead th {\n        text-align: right;\n    }\n</style>\n<table border=\"1\" class=\"dataframe\">\n  <thead>\n    <tr style=\"text-align: right;\">\n      <th></th>\n      <th>id_pedido_mask</th>\n      <th>id_usuario_mask</th>\n      <th>codigo_produto_mask</th>\n      <th>quantidade</th>\n      <th>receita</th>\n      <th>frete</th>\n      <th>desconto</th>\n      <th>brinde</th>\n    </tr>\n  </thead>\n  <tbody>\n    <tr>\n      <th>0</th>\n      <td>1b36ebea2c986781b5a7500b7d8971a5</td>\n      <td>57c9bb7ce32a4629b791c11f113f4e08</td>\n      <td>b56aa30a87fa7812daa689886060c0b9</td>\n      <td>1</td>\n      <td>33.66</td>\n      <td>0.00</td>\n      <td>3.74</td>\n      <td>0</td>\n    </tr>\n    <tr>\n      <th>1</th>\n      <td>e303a604a1d1cd5b7455dcaf256da2ec</td>\n      <td>e99abed19b0ede9a1768de5af9573a70</td>\n      <td>9322504cb6521dddcf8fcca18810c975</td>\n      <td>1</td>\n      <td>0.00</td>\n      <td>0.00</td>\n      <td>99.90</td>\n      <td>1</td>\n    </tr>\n    <tr>\n      <th>2</th>\n      <td>830172ec53b00a9feeefce2465eafe4c</td>\n      <td>309ba5b53dce34cac24a37b196e51c76</td>\n      <td>cca7873258ccf037fee3ee6077a67a97</td>\n      <td>1</td>\n      <td>269.09</td>\n      <td>0.00</td>\n      <td>29.90</td>\n      <td>0</td>\n    </tr>\n    <tr>\n      <th>3</th>\n      <td>a46ca254a2cf132f8c2087e825cc46e4</td>\n      <td>8e3428b0da37721f59d06b648fdb1d69</td>\n      <td>db69799b4b02e6d708fdf6408b400a0e</td>\n      <td>1</td>\n      <td>161.50</td>\n      <td>0.00</td>\n      <td>0.00</td>\n      <td>0</td>\n    </tr>\n    <tr>\n      <th>4</th>\n      <td>00627c9841286f7a2054a6b3b54d05dd</td>\n      <td>874af7ab886dd5ad7c8306d0c2f6ac83</td>\n      <td>97f1357808314f0979f32f06c1b02e01</td>\n      <td>1</td>\n      <td>41.37</td>\n      <td>0.96</td>\n      <td>4.49</td>\n      <td>0</td>\n    </tr>\n  </tbody>\n</table>\n</div>"
     },
     "metadata": {},
     "execution_count": 14
    }
   ],
   "source": [
    "pd.read_sql('select * from transacoes limit 100', engine).head()"
   ]
  }
 ]
}